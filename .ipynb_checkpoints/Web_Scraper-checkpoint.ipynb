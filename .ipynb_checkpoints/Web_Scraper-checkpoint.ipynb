{
 "cells": [
  {
   "cell_type": "code",
   "execution_count": 155,
   "metadata": {},
   "outputs": [],
   "source": [
    "from urllib.request import Request, urlopen\n",
    "import requests\n",
    "from urllib.parse import urlparse\n",
    "from bs4 import BeautifulSoup\n",
    "import time\n",
    "import pandas as pd\n",
    "import numpy as np"
   ]
  },
  {
   "cell_type": "code",
   "execution_count": 30,
   "metadata": {},
   "outputs": [],
   "source": [
    "# Create reference to main webpage that will be used to seek out various car makes and models\n",
    "url = 'https://www.carspecs.us/'\n",
    "response = requests.get(url)"
   ]
  },
  {
   "cell_type": "code",
   "execution_count": 31,
   "metadata": {},
   "outputs": [],
   "source": [
    "# The beautiful soup result of parsing the main page. Will search for links to pursue\n",
    "bsMain = BeautifulSoup(response.text,\"html.parser\")"
   ]
  },
  {
   "cell_type": "code",
   "execution_count": 33,
   "metadata": {},
   "outputs": [
    {
     "data": {
      "text/plain": [
       "'/cars/acura'"
      ]
     },
     "execution_count": 33,
     "metadata": {},
     "output_type": "execute_result"
    }
   ],
   "source": [
    "# Indices 24 to 91 are the car links\n",
    "MainLinkList = bsMain.findAll('a')\n",
    "MainLinkList[24]['href']"
   ]
  },
  {
   "cell_type": "code",
   "execution_count": 34,
   "metadata": {},
   "outputs": [],
   "source": [
    "# This gets the specific make domain for appending to the main link\n",
    "make = MainLinkList[24]['href']\n",
    "\n",
    "# Appending the link for car make to the homepage link. This leads to the list of years\n",
    "NewUrl = url + make[1:]\n",
    "\n",
    "# Updated URL Request\n",
    "NewResponse = requests.get(NewUrl)\n",
    "\n",
    "# Updated Beautiful Soup of years\n",
    "bsYears = BeautifulSoup(NewResponse.text,'html.parser')\n",
    "\n"
   ]
  },
  {
   "cell_type": "code",
   "execution_count": 35,
   "metadata": {},
   "outputs": [],
   "source": [
    "# Find all links on the page of car years\n",
    "bsYears.findAll('a')\n",
    "\n",
    "# Find the index of the respective year. Initially I'll only consider 2018 and 2019 cars\n",
    "yr2019 = [i for i, j in enumerate(bsYears.findAll('a')) if '2019' in j][0]\n",
    "# yr2018 = [i for i, j in enumerate(bsYears.findAll('a')) if '2018' in j][0]"
   ]
  },
  {
   "cell_type": "code",
   "execution_count": 36,
   "metadata": {},
   "outputs": [],
   "source": [
    "# Get the year part of link to append to make like\n",
    "year = bsYears.findAll('a')[yr2019]['href']\n",
    "\n",
    "# New url with years\n",
    "NewUrl = url + year[1:]"
   ]
  },
  {
   "cell_type": "code",
   "execution_count": 37,
   "metadata": {},
   "outputs": [],
   "source": [
    "# Selecting the model\n",
    "NewResponse = requests.get(NewUrl)\n",
    "\n",
    "bsModels = BeautifulSoup(NewResponse.text,'html.parser')\n",
    "\n",
    "MainLinkList = bsModels.findAll('a')\n",
    "\n",
    "ModelLowIndex = [i for i, j in enumerate(bsYears.findAll('a')) if 'Cars' in j][0]\n",
    "ModelHighIndex = [i for i, j in enumerate(bsYears.findAll('a')) if 'Privacy Policy' in j][0]"
   ]
  },
  {
   "cell_type": "code",
   "execution_count": 43,
   "metadata": {},
   "outputs": [
    {
     "data": {
      "text/plain": [
       "'https://www.carspecs.us/cars/2019/acura/mdx'"
      ]
     },
     "execution_count": 43,
     "metadata": {},
     "output_type": "execute_result"
    }
   ],
   "source": [
    "model = MainLinkList[ModelLowIndex + 2]['href']\n",
    "\n",
    "NewUrl = url + model[1:]\n",
    "\n",
    "NewUrl"
   ]
  },
  {
   "cell_type": "code",
   "execution_count": 161,
   "metadata": {},
   "outputs": [
    {
     "data": {
      "text/plain": [
       "['TPMS', '\\t\\t\\t\\t\\tTire Pressure Monitor']"
      ]
     },
     "execution_count": 161,
     "metadata": {},
     "output_type": "execute_result"
    }
   ],
   "source": [
    "# At this stage we are at the specs page and need to start reading data into a dataframe.\n",
    "\n",
    "#NewResponse = requests.get(NewUrl)\n",
    "\n",
    "# Testing the indices using this manual split\n",
    "BeautifulSoup(NewResponse.text,'html.parser').findAll(True,{'class':'pure-u-1 pure-u-md-1-2'})[44].get_text().strip().split('\\r\\n')\n",
    "\n",
    "# Engine Type (index 12) does not work\n",
    "# Front Brakes (index 26) does not work\n",
    "# Read Brakes (index 27) does not work\n",
    "# Brake Type (index 31) does not work\n",
    "# TPMS (index 44) does not work\n",
    "# Ends at 71.\n",
    "\n",
    "# NOTE: I can make this work if I utilize a conditional to split the \\t\\t\\t\\ from the above values."
   ]
  },
  {
   "cell_type": "code",
   "execution_count": 159,
   "metadata": {},
   "outputs": [],
   "source": [
    "variables = []\n",
    "for i in range(72):\n",
    "    variables.append(BeautifulSoup(NewResponse.text,'html.parser').findAll(True,{'class':'pure-u-1 pure-u-md-1-2'})[i].get_text().strip().split('\\r\\n')[0])"
   ]
  },
  {
   "cell_type": "code",
   "execution_count": 162,
   "metadata": {},
   "outputs": [
    {
     "data": {
      "text/html": [
       "<div>\n",
       "<style scoped>\n",
       "    .dataframe tbody tr th:only-of-type {\n",
       "        vertical-align: middle;\n",
       "    }\n",
       "\n",
       "    .dataframe tbody tr th {\n",
       "        vertical-align: top;\n",
       "    }\n",
       "\n",
       "    .dataframe thead th {\n",
       "        text-align: right;\n",
       "    }\n",
       "</style>\n",
       "<table border=\"1\" class=\"dataframe\">\n",
       "  <thead>\n",
       "    <tr style=\"text-align: right;\">\n",
       "      <th></th>\n",
       "      <th>Passenger Doors</th>\n",
       "      <th>Passenger Capacity</th>\n",
       "      <th>Transmission</th>\n",
       "      <th>Drive type</th>\n",
       "      <th>0-60 mph</th>\n",
       "      <th>EPA mileage (combined)</th>\n",
       "      <th>Horsepower</th>\n",
       "      <th>Horsepower RPM</th>\n",
       "      <th>Torque</th>\n",
       "      <th>Torque RPM</th>\n",
       "      <th>...</th>\n",
       "      <th>Front shoulder room</th>\n",
       "      <th>Front hip room</th>\n",
       "      <th>Rear head room</th>\n",
       "      <th>Rear leg room</th>\n",
       "      <th>Rear shoulder room</th>\n",
       "      <th>Rear hip room</th>\n",
       "      <th>3rd Row Head Room</th>\n",
       "      <th>3rd Row Leg Room</th>\n",
       "      <th>3rd Row Shoulder Room</th>\n",
       "      <th>3rd Row Hip Room</th>\n",
       "    </tr>\n",
       "  </thead>\n",
       "  <tbody>\n",
       "  </tbody>\n",
       "</table>\n",
       "<p>0 rows × 72 columns</p>\n",
       "</div>"
      ],
      "text/plain": [
       "Empty DataFrame\n",
       "Columns: [Passenger Doors, Passenger Capacity, Transmission, Drive type, 0-60 mph, EPA mileage (combined), Horsepower, Horsepower RPM, Torque, Torque RPM, Cylinders, Base engine size, Engine type, Transmission, First Gear Ratio, Second Gear Ratio, Third Gear Ratio, Fourth Gear Ratio, Fifth Gear Ratio, Sixth Gear Ratio, Seventh Gear Ratio, Eighth Gear Ratio, Final Drive Axle Ratio, Reverse Ratio, Front Suspension Type, Rear Suspension Type, Front Brakes, Rear Brakes, Front Brake Rotor Diameter, Rear Brake Rotor Diameter, Rear Drum Brake Dimensions, Brake Type, ABS Brakes Type, Front Tire Size, Rear Tire Size, Front Wheel Diameter, Rear Wheel Diameter, Front Wheel Width, Rear Wheel Width, Rear Tire Size, Spare Tire Size, Front Wheel Material, Rear Wheel Material, Spare Wheel Material, TPMS, Curb weight, Fuel tank capacity, Dead Weight Hitch - Max Tongue Weight, Dead Weight Hitch - Max Trailer Weight, Max Trailering Capacity, Weight Distributing Hitch - Max Tongue Weight, Weight Distributing Hitch - Max Trailer Weight, Length, Width, Height, Wheelbase, Front track, Rear track, Ground clearance, Turning circle, Front head room, Front leg room, Front shoulder room, Front hip room, Rear head room, Rear leg room, Rear shoulder room, Rear hip room, 3rd Row Head Room, 3rd Row Leg Room, 3rd Row Shoulder Room, 3rd Row Hip Room]\n",
       "Index: []\n",
       "\n",
       "[0 rows x 72 columns]"
      ]
     },
     "execution_count": 162,
     "metadata": {},
     "output_type": "execute_result"
    }
   ],
   "source": [
    "# The pd DataFrame\n",
    "pd.DataFrame(columns=variables)"
   ]
  }
 ],
 "metadata": {
  "kernelspec": {
   "display_name": "Python 3",
   "language": "python",
   "name": "python3"
  },
  "language_info": {
   "codemirror_mode": {
    "name": "ipython",
    "version": 3
   },
   "file_extension": ".py",
   "mimetype": "text/x-python",
   "name": "python",
   "nbconvert_exporter": "python",
   "pygments_lexer": "ipython3",
   "version": "3.7.0"
  }
 },
 "nbformat": 4,
 "nbformat_minor": 2
}
