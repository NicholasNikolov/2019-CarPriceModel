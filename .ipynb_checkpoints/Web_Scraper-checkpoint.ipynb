{
 "cells": [
  {
   "cell_type": "code",
   "execution_count": 49,
   "metadata": {},
   "outputs": [],
   "source": [
    "from urllib.request import Request, urlopen\n",
    "import requests\n",
    "from urllib.parse import urlparse\n",
    "from bs4 import BeautifulSoup\n",
    "import time"
   ]
  },
  {
   "cell_type": "code",
   "execution_count": 3,
   "metadata": {},
   "outputs": [],
   "source": [
    "# Create reference to main webpage that will be used to seek out various car makes and models\n",
    "url = 'https://www.carspecs.us/'\n",
    "response = requests.get(url)"
   ]
  },
  {
   "cell_type": "code",
   "execution_count": 5,
   "metadata": {},
   "outputs": [],
   "source": [
    "# The beautiful soup result of parsing the main page. Will search for links to pursue\n",
    "bsMain = BeautifulSoup(response.text,\"html.parser\")"
   ]
  },
  {
   "cell_type": "code",
   "execution_count": 57,
   "metadata": {},
   "outputs": [
    {
     "data": {
      "text/plain": [
       "'/cars/acura'"
      ]
     },
     "execution_count": 57,
     "metadata": {},
     "output_type": "execute_result"
    }
   ],
   "source": [
    "# Indices 24 to 91 are the car links\n",
    "MainLinkList = bsMain.findAll('a')\n",
    "MainLinkList[24]['href']"
   ]
  },
  {
   "cell_type": "code",
   "execution_count": 66,
   "metadata": {},
   "outputs": [],
   "source": [
    "# This gets the specific make domain for appending to the main link\n",
    "make = MainLinkList[24]['href']\n",
    "\n",
    "# Appending the link for car make to the homepage link. This leads to the list of years\n",
    "NewUrl = url + make[1:]\n",
    "\n",
    "# Updated URL Request\n",
    "NewResponse = requests.get(NewUrl)\n",
    "\n",
    "# Updated Beautiful Soup of years\n",
    "bsYears = BeautifulSoup(NewResponse.text,'html.parser')\n",
    "\n"
   ]
  },
  {
   "cell_type": "code",
   "execution_count": 85,
   "metadata": {},
   "outputs": [],
   "source": [
    "# Find all links on the page of car years\n",
    "bsYears.findAll('a')\n",
    "\n",
    "# Find the index of the respective year. Initially I'll only consider 2018 and 2019 cars\n",
    "yr2019 = [i for i, j in enumerate(bsYears.findAll('a')) if '2019' in j][0]\n",
    "# yr2018 = [i for i, j in enumerate(bsYears.findAll('a')) if '2018' in j][0]"
   ]
  },
  {
   "cell_type": "code",
   "execution_count": 89,
   "metadata": {},
   "outputs": [],
   "source": [
    "# Get the year part of link to append to make like\n",
    "year = bsYears.findAll('a')[yr2019]['href']\n",
    "\n",
    "# New url with years\n",
    "NewUrl = url + year[1:]"
   ]
  },
  {
   "cell_type": "code",
   "execution_count": 90,
   "metadata": {},
   "outputs": [
    {
     "data": {
      "text/plain": [
       "'https://www.carspecs.us/cars/2019/acura'"
      ]
     },
     "execution_count": 90,
     "metadata": {},
     "output_type": "execute_result"
    }
   ],
   "source": [
    "# The URL works. Now the challenge is to find the car models.\n",
    "# I'm not 100% sure how to go about this since every car manufacturer has a unique\n",
    "# naming criteria for their car models. If I find consistent starting indices I might\n",
    "# be able to leverage that."
   ]
  }
 ],
 "metadata": {
  "kernelspec": {
   "display_name": "Python 3",
   "language": "python",
   "name": "python3"
  },
  "language_info": {
   "codemirror_mode": {
    "name": "ipython",
    "version": 3
   },
   "file_extension": ".py",
   "mimetype": "text/x-python",
   "name": "python",
   "nbconvert_exporter": "python",
   "pygments_lexer": "ipython3",
   "version": "3.7.0"
  }
 },
 "nbformat": 4,
 "nbformat_minor": 2
}
