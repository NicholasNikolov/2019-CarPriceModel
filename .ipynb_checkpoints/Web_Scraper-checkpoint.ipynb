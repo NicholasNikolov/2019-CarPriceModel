{
 "cells": [
  {
   "cell_type": "code",
   "execution_count": 1,
   "metadata": {},
   "outputs": [],
   "source": [
    "from urllib.request import Request, urlopen\n",
    "import requests\n",
    "from urllib.parse import urlparse\n",
    "from bs4 import BeautifulSoup\n",
    "import time\n",
    "import pandas as pd\n",
    "import numpy as np"
   ]
  },
  {
   "cell_type": "code",
   "execution_count": 2,
   "metadata": {},
   "outputs": [],
   "source": [
    "# Create reference to main webpage that will be used to seek out various car makes and models\n",
    "url = 'https://www.carspecs.us/'\n",
    "response = requests.get(url)"
   ]
  },
  {
   "cell_type": "code",
   "execution_count": 3,
   "metadata": {},
   "outputs": [],
   "source": [
    "# The beautiful soup result of parsing the main page. Will search for links to pursue\n",
    "bsMain = BeautifulSoup(response.text,\"html.parser\")"
   ]
  },
  {
   "cell_type": "code",
   "execution_count": 4,
   "metadata": {},
   "outputs": [
    {
     "data": {
      "text/plain": [
       "'/cars/acura'"
      ]
     },
     "execution_count": 4,
     "metadata": {},
     "output_type": "execute_result"
    }
   ],
   "source": [
    "# Indices 24 to 91 are the car links\n",
    "MainLinkList = bsMain.findAll('a')\n",
    "MainLinkList[24]['href']"
   ]
  },
  {
   "cell_type": "code",
   "execution_count": 5,
   "metadata": {},
   "outputs": [],
   "source": [
    "# This gets the specific make domain for appending to the main link\n",
    "make = MainLinkList[24]['href']\n",
    "\n",
    "# Appending the link for car make to the homepage link. This leads to the list of years\n",
    "NewUrl = url + make[1:]\n",
    "\n",
    "# Updated URL Request\n",
    "NewResponse = requests.get(NewUrl)\n",
    "\n",
    "# Updated Beautiful Soup of years\n",
    "bsYears = BeautifulSoup(NewResponse.text,'html.parser')\n",
    "\n"
   ]
  },
  {
   "cell_type": "code",
   "execution_count": 6,
   "metadata": {},
   "outputs": [],
   "source": [
    "# Find all links on the page of car years\n",
    "bsYears.findAll('a')\n",
    "\n",
    "# Find the index of the respective year. Initially I'll only consider 2018 and 2019 cars\n",
    "yr2019 = [i for i, j in enumerate(bsYears.findAll('a')) if '2019' in j][0]\n",
    "# yr2018 = [i for i, j in enumerate(bsYears.findAll('a')) if '2018' in j][0]"
   ]
  },
  {
   "cell_type": "code",
   "execution_count": 7,
   "metadata": {},
   "outputs": [
    {
     "data": {
      "text/plain": [
       "25"
      ]
     },
     "execution_count": 7,
     "metadata": {},
     "output_type": "execute_result"
    }
   ],
   "source": [
    "yr2019"
   ]
  },
  {
   "cell_type": "code",
   "execution_count": 8,
   "metadata": {},
   "outputs": [],
   "source": [
    "# Get the year part of link to append to make like\n",
    "year = bsYears.findAll('a')[yr2019]['href']\n",
    "\n",
    "# New url with years\n",
    "NewUrl = url + year[1:]"
   ]
  },
  {
   "cell_type": "code",
   "execution_count": 9,
   "metadata": {},
   "outputs": [],
   "source": [
    "# Selecting the model\n",
    "NewResponse = requests.get(NewUrl)\n",
    "\n",
    "bsModels = BeautifulSoup(NewResponse.text,'html.parser')\n",
    "\n",
    "MainLinkList = bsModels.findAll('a')\n",
    "\n",
    "ModelLowIndex = [i for i, j in enumerate(bsModels.findAll('a')) if 'Cars' in j][0]\n",
    "ModelHighIndex = [i for i, j in enumerate(bsModels.findAll('a')) if 'Privacy Policy' in j][0]"
   ]
  },
  {
   "cell_type": "code",
   "execution_count": 10,
   "metadata": {},
   "outputs": [
    {
     "data": {
      "text/plain": [
       "'https://www.carspecs.us/cars/2019/acura/mdx'"
      ]
     },
     "execution_count": 10,
     "metadata": {},
     "output_type": "execute_result"
    }
   ],
   "source": [
    "model = MainLinkList[ModelLowIndex + 2]['href']\n",
    "\n",
    "NewUrl = url + model[1:]\n",
    "\n",
    "NewUrl"
   ]
  },
  {
   "cell_type": "code",
   "execution_count": 18,
   "metadata": {},
   "outputs": [
    {
     "data": {
      "text/plain": [
       "'ABS And Driveline Traction Control\\nAirbag Occupancy Sensor\\nBack-Up Camera\\nCurtain 1st, 2nd And 3rd Row Airbags\\nDriver Knee Airbag\\nDual Stage Driver And Passenger Front Airbags\\nDual Stage Driver And Passenger Seat-Mounted Side Airbags\\nForward Collision\\nLane Departure Warning\\nLane Keeping Assist\\nOutboard Front Lap And Shoulder Safety Belts -inc: Rear Center 3...\\nRear Child Safety Locks\\nSide Impact Beams\\nTire Specific Low Tire Pressure Warning\\nVehicle Stability Assist Electronic Stability Control (ESC)'"
      ]
     },
     "execution_count": 18,
     "metadata": {},
     "output_type": "execute_result"
    }
   ],
   "source": [
    "# At this stage we are at the specs page and need to start reading data into a dataframe.\n",
    "\n",
    "NewResponse = requests.get(NewUrl)\n",
    "\n",
    "# Testing the indices using this manual split\n",
    "BeautifulSoup(NewResponse.text,'html.parser').findAll(True,{'class':'pure-u-1 pure-u-md-1-2'})[72].get_text().strip().split('\\r\\n')[0]\n"
   ]
  },
  {
   "cell_type": "code",
   "execution_count": 21,
   "metadata": {},
   "outputs": [
    {
     "name": "stdout",
     "output_type": "stream",
     "text": [
      "test test\n"
     ]
    }
   ],
   "source": [
    "print(\"test\",\"test\")"
   ]
  },
  {
   "cell_type": "code",
   "execution_count": 40,
   "metadata": {},
   "outputs": [
    {
     "data": {
      "text/html": [
       "<div>\n",
       "<style scoped>\n",
       "    .dataframe tbody tr th:only-of-type {\n",
       "        vertical-align: middle;\n",
       "    }\n",
       "\n",
       "    .dataframe tbody tr th {\n",
       "        vertical-align: top;\n",
       "    }\n",
       "\n",
       "    .dataframe thead th {\n",
       "        text-align: right;\n",
       "    }\n",
       "</style>\n",
       "<table border=\"1\" class=\"dataframe\">\n",
       "  <thead>\n",
       "    <tr style=\"text-align: right;\">\n",
       "      <th></th>\n",
       "      <th>test</th>\n",
       "      <th>test2</th>\n",
       "    </tr>\n",
       "  </thead>\n",
       "  <tbody>\n",
       "    <tr>\n",
       "      <th>0</th>\n",
       "      <td>NaN</td>\n",
       "      <td>NaN</td>\n",
       "    </tr>\n",
       "    <tr>\n",
       "      <th>1</th>\n",
       "      <td>NaN</td>\n",
       "      <td>Transmission: 9-Speed Automatic -inc: Sequenti...</td>\n",
       "    </tr>\n",
       "    <tr>\n",
       "      <th>2</th>\n",
       "      <td>NaN</td>\n",
       "      <td>test2 2</td>\n",
       "    </tr>\n",
       "    <tr>\n",
       "      <th>3</th>\n",
       "      <td>NaN</td>\n",
       "      <td>NaN</td>\n",
       "    </tr>\n",
       "    <tr>\n",
       "      <th>4</th>\n",
       "      <td>NaN</td>\n",
       "      <td>NaN</td>\n",
       "    </tr>\n",
       "  </tbody>\n",
       "</table>\n",
       "</div>"
      ],
      "text/plain": [
       "  test                                              test2\n",
       "0  NaN                                                NaN\n",
       "1  NaN  Transmission: 9-Speed Automatic -inc: Sequenti...\n",
       "2  NaN                                            test2 2\n",
       "3  NaN                                                NaN\n",
       "4  NaN                                                NaN"
      ]
     },
     "execution_count": 40,
     "metadata": {},
     "output_type": "execute_result"
    }
   ],
   "source": [
    "var = 'test2'\n",
    "df = pd.DataFrame(columns=[\"test\",\"test2\"],index=range(5))\n",
    "df[var].loc[2] = \"test2 2\"\n",
    "df[var].loc[1] = 'Transmission: 9-Speed Automatic -inc: Sequential SportShift w/paddle shifters, 3-mode integrated dynamics system, Electronic Gear Selector and hill start assist'\n",
    "df"
   ]
  },
  {
   "cell_type": "markdown",
   "metadata": {},
   "source": [
    "## TESTING"
   ]
  },
  {
   "cell_type": "code",
   "execution_count": 12,
   "metadata": {},
   "outputs": [],
   "source": [
    "variables = []\n",
    "for i in range(72):\n",
    "    variables.append(BeautifulSoup(NewResponse.text,'html.parser').findAll(True,{'class':'pure-u-1 pure-u-md-1-2'})[i].get_text().strip().split('\\r\\n')[0])"
   ]
  },
  {
   "cell_type": "code",
   "execution_count": 14,
   "metadata": {},
   "outputs": [
    {
     "name": "stdout",
     "output_type": "stream",
     "text": [
      "Acura\n",
      "Volvo\n"
     ]
    }
   ],
   "source": [
    "link = 'https://www.carspecs.us/'\n",
    "response = requests.get(link)\n",
    "makes = []\n",
    "print(BeautifulSoup(response.text).findAll('a')[24].get_text())\n",
    "print(BeautifulSoup(response.text).findAll('a')[91].get_text())\n",
    "for i in range(24,92):\n",
    "    makes.append(BeautifulSoup(response.text).findAll('a')[i].get_text())"
   ]
  },
  {
   "cell_type": "code",
   "execution_count": 25,
   "metadata": {},
   "outputs": [
    {
     "data": {
      "text/plain": [
       "'2.84'"
      ]
     },
     "execution_count": 25,
     "metadata": {},
     "output_type": "execute_result"
    }
   ],
   "source": [
    "link = 'https://www.carspecs.us/cars/2019/acura/mdx'\n",
    "NewResponse = requests.get(link)\n",
    "BeautifulSoup(NewResponse.text,'html.parser').findAll(True,{'class':'pure-u-1 pure-u-md-1-2'})[15].get_text().strip().split('\\r\\n')[1]"
   ]
  },
  {
   "cell_type": "code",
   "execution_count": 15,
   "metadata": {},
   "outputs": [
    {
     "name": "stdout",
     "output_type": "stream",
     "text": [
      "MDX\n"
     ]
    }
   ],
   "source": [
    "url = 'https://www.carspecs.us/'\n",
    "response = requests.get(url)\n",
    "make = 'acura'\n",
    "year = str(2019)\n",
    "\n",
    "# The beautiful soup result of parsing the main page. Will search for links to pursue\n",
    "bsMain = BeautifulSoup(response.text,\"html.parser\")\n",
    "\n",
    "    \n",
    "ModelPageUrl = url + \"cars/\" + year + \"/\" + make\n",
    "\n",
    "NewResponse = requests.get(ModelPageUrl)\n",
    "bsModels = BeautifulSoup(NewResponse.text,'html.parser')\n",
    "LinkList = bsModels.findAll('a')\n",
    "    \n",
    "ModelLowIndex = [x for x, y in enumerate(bsModels.findAll('a')) if 'Cars' in y][0]\n",
    "ModelHighIndex = [x for x, y in enumerate(bsModels.findAll('a')) if 'Privacy Policy' in y][0]\n",
    "    \n",
    "print(LinkList[ModelLowIndex+2].get_text())"
   ]
  },
  {
   "cell_type": "code",
   "execution_count": 32,
   "metadata": {},
   "outputs": [
    {
     "data": {
      "text/plain": [
       "63"
      ]
     },
     "execution_count": 32,
     "metadata": {},
     "output_type": "execute_result"
    }
   ],
   "source": [
    "url = 'https://www.carspecs.us/cars/2019/acura/tlx/'\n",
    "NewResponse = requests.get(url)\n",
    "data = []\n",
    "\n",
    "len(BeautifulSoup(NewResponse.text,'html.parser').findAll(True,{'class':'pure-u-1 pure-u-md-1-2'}))\n",
    "    "
   ]
  },
  {
   "cell_type": "code",
   "execution_count": 18,
   "metadata": {},
   "outputs": [
    {
     "name": "stdout",
     "output_type": "stream",
     "text": [
      "[<a class=\"header-logo logo\" href=\"/\"><span>car</span>specs<abbr>.us</abbr></a>, <a href=\"/\">Browse by Make</a>, <a href=\"/car-finder\">Car Finder</a>, <a href=\"/calculator/0-60\">0-60 Calculator</a>, <a href=\"/account/login\">Log In</a>, <a href=\"/account/manage\">My Account</a>, <a href=\"/\">My Favorites</a>, <a href=\"/account/logoff\">Log Out</a>, <a class=\"js-return-to-search-results\" href=\"/car-finder\" rel=\"nofollow\">« Return to search results</a>, <a href=\"#\">Year<span></span></a>, <a href=\"#\">Make<span></span></a>, <a href=\"#\">Price<span></span></a>, <a href=\"#\">Car Type<span></span></a>, <a href=\"#\">Drive Type<span></span></a>, <a href=\"#\">Engine Type<span></span></a>, <a href=\"#\">Transmission<span></span></a>, <a href=\"#\">Performance and MPG<span></span></a>, <a href=\"#\">Doors and Passengers<span></span></a>, <a href=\"#\">Weights and Capacities<span></span></a>, <a href=\"#\">Exterior Dimensions<span></span></a>, <a href=\"#\">Interior Dimensions<span></span></a>, <a href=\"#\">Front Suspension<span></span></a>, <a href=\"#\">Rear Suspension<span></span></a>, <a class=\"menu-link js-menu-link\" href=\"#menu\" id=\"menuLink\">\n",
      "<i class=\"material-icons\">filter_list</i>\n",
      "</a>, <a href=\"/\">Cars</a>, <a href=\"/cars/alfa-romeo\">Alfa Romeo</a>, <a href=\"/cars/2018/alfa-romeo/4c\">4C</a>, <a href=\"/cars/2018/alfa-romeo/4c-spider\">4C Spider</a>, <a href=\"/cars/2018/alfa-romeo/giulia\">Giulia</a>, <a href=\"/cars/2018/alfa-romeo/stelvio\">Stelvio</a>, <a href=\"/privacy\">Privacy Policy</a>, <a href=\"http://www.bucketsoft.com/\" target=\"_blank\">BucketSoft</a>]\n"
     ]
    }
   ],
   "source": [
    "# Testing Alfa Romeo which isn't working\n",
    "# The problem was that it had a space... :/\n",
    "    # Create reference to main webpage that will be used to seek out various car makes and models\n",
    "url = 'https://www.carspecs.us/'\n",
    "response = requests.get(url)\n",
    "    \n",
    "    # The beautiful soup result of parsing the main page. Will search for links to pursue\n",
    "bsMain = BeautifulSoup(response.text,\"html.parser\")\n",
    "make = 'alfa romeo'\n",
    "year = str(2018)\n",
    "\n",
    "make = make.replace(\" \",\"-\")\n",
    "    \n",
    "ModelPageUrl = url + \"cars/\" + year + \"/\" + make\n",
    "\n",
    "NewResponse = requests.get(ModelPageUrl)\n",
    "bsModels = BeautifulSoup(NewResponse.text,'html.parser')\n",
    "LinkList = bsModels.findAll('a')\n",
    "\n",
    "print(LinkList)\n",
    "ModelLowIndex = [x for x, y in enumerate(bsModels.findAll('a')) if 'Cars' in y][0]\n",
    "#ModelLowIndex = [x for x, y in enumerate(bsModels.findAll('a')) if 'Cars' in y][0]"
   ]
  },
  {
   "cell_type": "code",
   "execution_count": 38,
   "metadata": {},
   "outputs": [
    {
     "name": "stdout",
     "output_type": "stream",
     "text": [
      "columns: 29\n",
      "0\n",
      "1\n",
      "2\n",
      "3\n",
      "4\n",
      "5\n",
      "6\n",
      "7\n",
      "8\n",
      "9\n",
      "10\n",
      "11\n",
      "12\n",
      "13\n",
      "14\n",
      "15\n",
      "16\n",
      "17\n",
      "18\n",
      "19\n",
      "20\n"
     ]
    },
    {
     "ename": "IndexError",
     "evalue": "list index out of range",
     "output_type": "error",
     "traceback": [
      "\u001b[1;31m---------------------------------------------------------------------------\u001b[0m",
      "\u001b[1;31mIndexError\u001b[0m                                Traceback (most recent call last)",
      "\u001b[1;32m<ipython-input-38-e891caf04903>\u001b[0m in \u001b[0;36m<module>\u001b[1;34m\u001b[0m\n\u001b[0;32m     11\u001b[0m \u001b[1;32mfor\u001b[0m \u001b[0mi\u001b[0m \u001b[1;32min\u001b[0m \u001b[0mrange\u001b[0m\u001b[1;33m(\u001b[0m\u001b[0mcolumns\u001b[0m\u001b[1;33m)\u001b[0m\u001b[1;33m:\u001b[0m\u001b[1;33m\u001b[0m\u001b[1;33m\u001b[0m\u001b[0m\n\u001b[0;32m     12\u001b[0m     \u001b[0mprint\u001b[0m\u001b[1;33m(\u001b[0m\u001b[0mi\u001b[0m\u001b[1;33m)\u001b[0m\u001b[1;33m\u001b[0m\u001b[1;33m\u001b[0m\u001b[0m\n\u001b[1;32m---> 13\u001b[1;33m     \u001b[0mdata\u001b[0m\u001b[1;33m.\u001b[0m\u001b[0mappend\u001b[0m\u001b[1;33m(\u001b[0m\u001b[0mBeautifulSoup\u001b[0m\u001b[1;33m(\u001b[0m\u001b[0mNewResponse\u001b[0m\u001b[1;33m.\u001b[0m\u001b[0mtext\u001b[0m\u001b[1;33m,\u001b[0m\u001b[1;34m'html.parser'\u001b[0m\u001b[1;33m)\u001b[0m\u001b[1;33m.\u001b[0m\u001b[0mfindAll\u001b[0m\u001b[1;33m(\u001b[0m\u001b[1;32mTrue\u001b[0m\u001b[1;33m,\u001b[0m\u001b[1;33m{\u001b[0m\u001b[1;34m'class'\u001b[0m\u001b[1;33m:\u001b[0m\u001b[1;34m'pure-u-1 pure-u-md-1-2'\u001b[0m\u001b[1;33m}\u001b[0m\u001b[1;33m)\u001b[0m\u001b[1;33m[\u001b[0m\u001b[0mi\u001b[0m\u001b[1;33m]\u001b[0m\u001b[1;33m.\u001b[0m\u001b[0mget_text\u001b[0m\u001b[1;33m(\u001b[0m\u001b[1;33m)\u001b[0m\u001b[1;33m.\u001b[0m\u001b[0mstrip\u001b[0m\u001b[1;33m(\u001b[0m\u001b[1;33m)\u001b[0m\u001b[1;33m.\u001b[0m\u001b[0msplit\u001b[0m\u001b[1;33m(\u001b[0m\u001b[1;34m'\\r\\n'\u001b[0m\u001b[1;33m)\u001b[0m\u001b[1;33m[\u001b[0m\u001b[1;36m1\u001b[0m\u001b[1;33m]\u001b[0m\u001b[1;33m)\u001b[0m\u001b[1;33m\u001b[0m\u001b[1;33m\u001b[0m\u001b[0m\n\u001b[0m\u001b[0;32m     14\u001b[0m \u001b[1;33m\u001b[0m\u001b[0m\n\u001b[0;32m     15\u001b[0m \u001b[0mdata\u001b[0m\u001b[1;33m.\u001b[0m\u001b[0minsert\u001b[0m\u001b[1;33m(\u001b[0m\u001b[1;36m0\u001b[0m\u001b[1;33m,\u001b[0m\u001b[0mmake\u001b[0m\u001b[1;33m)\u001b[0m\u001b[1;33m\u001b[0m\u001b[1;33m\u001b[0m\u001b[0m\n",
      "\u001b[1;31mIndexError\u001b[0m: list index out of range"
     ]
    }
   ],
   "source": [
    "url = 'https://www.carspecs.us/cars/2018/aston-martin/vanquish-s/48913'\n",
    "NewResponse = requests.get(url)\n",
    "make = 'aston martin'\n",
    "model = 'Vanquish S'\n",
    "    \n",
    "year = str(year)\n",
    "\n",
    "data = []\n",
    "columns = len(BeautifulSoup(NewResponse.text,'html.parser').findAll(True,{'class':'pure-u-1 pure-u-md-1-2'}))-1\n",
    "print(\"columns:\" , columns)\n",
    "for i in range(columns):\n",
    "    print(i)\n",
    "    data.append(BeautifulSoup(NewResponse.text,'html.parser').findAll(True,{'class':'pure-u-1 pure-u-md-1-2'})[i].get_text().strip().split('\\r\\n')[1])\n",
    "        \n",
    "data.insert(0,make)\n",
    "data.insert(1,model)\n",
    "data.insert(2,year)\n",
    "    \n",
    "if columns < 72:\n",
    "    for columns in range(columns,72):\n",
    "        data.append(\"null\")"
   ]
  },
  {
   "cell_type": "code",
   "execution_count": 47,
   "metadata": {},
   "outputs": [
    {
     "data": {
      "text/plain": [
       "[<div class=\"pure-u-1 pure-u-md-1-2\">\n",
       " <h4>Transmission</h4>\n",
       "  8-speed shiftable automatic <br/>\n",
       " </div>, <div class=\"pure-u-1 pure-u-md-1-2\">\n",
       " <h4>Drive type</h4>\n",
       "  Rear wheel drive  <br/>\n",
       " </div>, <div class=\"pure-u-1 pure-u-md-1-2\">\n",
       " <h4>0-60 mph</h4>\n",
       " 3.70 sec<br/>\n",
       " </div>, <div class=\"pure-u-1 pure-u-md-1-2\">\n",
       " <h4>Horsepower</h4>\n",
       " 580 hp<br/>\n",
       " </div>, <div class=\"pure-u-1 pure-u-md-1-2\">\n",
       " <h4>Horsepower RPM</h4>\n",
       " 7,000 <br/>\n",
       " </div>, <div class=\"pure-u-1 pure-u-md-1-2\">\n",
       " <h4>Torque</h4>\n",
       " 465 ft-lbs.<br/>\n",
       " </div>, <div class=\"pure-u-1 pure-u-md-1-2\">\n",
       " <h4>Torque RPM</h4>\n",
       " 5,500 <br/>\n",
       " </div>, <div class=\"pure-u-1 pure-u-md-1-2\">\n",
       " <h4>Cylinders</h4>\n",
       " 12 <br/>\n",
       " </div>, <div class=\"pure-u-1 pure-u-md-1-2\">\n",
       " <h4>Base engine size</h4>\n",
       " 5.90 L<br/>\n",
       " </div>, <div class=\"pure-u-1 pure-u-md-1-2\">\n",
       " <h4>Valves</h4>\n",
       " 48 <br/>\n",
       " </div>, <div class=\"pure-u-1 pure-u-md-1-2\">\n",
       " <h4>Engine type</h4>\n",
       " \t\t\t\t\tGas<br/>\n",
       " </div>, <div class=\"pure-u-1 pure-u-md-1-2\">\n",
       " <h4>Transmission</h4>\n",
       "  8-speed shiftable automatic <br/>\n",
       " </div>, <div class=\"pure-u-1 pure-u-md-1-2\">\n",
       " <h4>Curb weight</h4>\n",
       " 3,834 lbs.<br/>\n",
       " </div>, <div class=\"pure-u-1 pure-u-md-1-2\">\n",
       " <h4>Fuel tank capacity</h4>\n",
       " 20.50 gal.<br/>\n",
       " </div>, <div class=\"pure-u-1 pure-u-md-1-2\">\n",
       " <h4>Cargo capacity, all seats in place</h4>\n",
       " 5.00 cu.ft.<br/>\n",
       " </div>, <div class=\"pure-u-1 pure-u-md-1-2\">\n",
       " <h4>EPA interior volume</h4>\n",
       " 83.00 cu.ft.<br/>\n",
       " </div>, <div class=\"pure-u-1 pure-u-md-1-2\">\n",
       " <h4>Length</h4>\n",
       " 186.20 in.<br/>\n",
       " </div>, <div class=\"pure-u-1 pure-u-md-1-2\">\n",
       " <h4>Width</h4>\n",
       " 75.20 <br/>\n",
       " </div>, <div class=\"pure-u-1 pure-u-md-1-2\">\n",
       " <h4>Height</h4>\n",
       " 51.00 in.<br/>\n",
       " </div>, <div class=\"pure-u-1 pure-u-md-1-2\">\n",
       " <h4>Wheelbase</h4>\n",
       " 107.90 in.<br/>\n",
       " </div>, <div class=\"pure-u-1 pure-u-md-1-2\">\n",
       " <br/>\n",
       " <ul>\n",
       " <li>Cruise control</li>\n",
       " <li>Front and rear parking sensors</li>\n",
       " <li>Front cupholders</li>\n",
       " <li>Front door pockets</li>\n",
       " <li>Power steering</li>\n",
       " <li>Rear view camera</li>\n",
       " <li>Tilt and telescopic steering wheel</li>\n",
       " <li>Transmission, cruise and audio controls on steering wheel</li>\n",
       " <li>Universal remote transmitter (for garage door, security system, etc.)</li>\n",
       " </ul>\n",
       " </div>, <div class=\"pure-u-1 pure-u-md-1-2\">\n",
       " <br/>\n",
       " <ul>\n",
       " <li>Climate control</li>\n",
       " <li>Electrochromatic inside rearview mirror</li>\n",
       " <li>Leather steering wheel</li>\n",
       " </ul>\n",
       " </div>, <div class=\"pure-u-1 pure-u-md-1-2\">\n",
       " <br/>\n",
       " <ul>\n",
       " <li>2 front headrests</li>\n",
       " <li>4-wheel ABS</li>\n",
       " <li>Alarm Upgrade Volumetric &amp; Tilt Sensors</li>\n",
       " <li>Aston Martin Tracking by Cobra</li>\n",
       " <li>Auto delay off headlamps</li>\n",
       " <li>Daytime running lights</li>\n",
       " <li>Dual front side-mounted airbags</li>\n",
       " <li>Dusk sensing headlamps</li>\n",
       " <li>Emergency braking assist</li>\n",
       " <li>Engine immobilizer</li>\n",
       " <li>First Aid Kit</li>\n",
       " <li>Front head airbags</li>\n",
       " <li>Remote anti-theft alarm system</li>\n",
       " <li>Stability control</li>\n",
       " <li>Tire pressure monitoring</li>\n",
       " <li>Traction control</li>\n",
       " <li>Xenon high intensity discharge headlamp</li>\n",
       " </ul>\n",
       " </div>, <div class=\"pure-u-1 pure-u-md-1-2\">\n",
       " <br/>\n",
       " <ul>\n",
       " <li>8-way power driver seat</li>\n",
       " <li>8-way power passenger seat</li>\n",
       " <li>Bucket front seats</li>\n",
       " <li>Height adjustable driver seat</li>\n",
       " <li>Height adjustable passenger seat</li>\n",
       " <li>Multi-level heating driver seat</li>\n",
       " <li>Multi-level heating passenger seat</li>\n",
       " <li>Premium leather</li>\n",
       " </ul>\n",
       " </div>, <div class=\"pure-u-1 pure-u-md-1-2\">\n",
       " <br/>\n",
       " <ul>\n",
       " <li>Heated mirrors</li>\n",
       " <li>Remote keyless power door locks</li>\n",
       " </ul>\n",
       " </div>, <div class=\"pure-u-1 pure-u-md-1-2\">\n",
       " <br/>\n",
       " <ul>\n",
       " <li>Tachometer</li>\n",
       " <li>Trip computer</li>\n",
       " </ul>\n",
       " </div>, <div class=\"pure-u-1 pure-u-md-1-2\">\n",
       " <br/>\n",
       " <ul>\n",
       " <li>Memorized settings 3</li>\n",
       " <li>Memorized settings for 3 drivers</li>\n",
       " </ul>\n",
       " </div>, <div class=\"pure-u-1 pure-u-md-1-2\">\n",
       " <br/>\n",
       " <ul>\n",
       " <li>1000 watts stereo output</li>\n",
       " <li>13 total speakers</li>\n",
       " <li>AM/FM  stereo</li>\n",
       " <li>Auxiliary audio input and USB with external media control</li>\n",
       " <li>Bang &amp; Olufsen premium brand speakers</li>\n",
       " <li>USB connection</li>\n",
       " </ul>\n",
       " </div>, <div class=\"pure-u-1 pure-u-md-1-2\">\n",
       " <br/>\n",
       " <ul>\n",
       " <li>Appletree Green</li>\n",
       " <li>Arden Green</li>\n",
       " <li>Arizona Bronze</li>\n",
       " <li>China Grey</li>\n",
       " <li>Cinnabar Orange</li>\n",
       " <li>Cobalt Blue</li>\n",
       " <li>Concours Blue</li>\n",
       " <li>Cumberland Grey</li>\n",
       " <li>Diavolo Red</li>\n",
       " <li>Divine Red</li>\n",
       " <li>Hammerhead Silver</li>\n",
       " <li>Hardly Green</li>\n",
       " <li>Jet Black</li>\n",
       " <li>Kopi Bronze</li>\n",
       " <li>Lightning Silver</li>\n",
       " <li>Lunar White</li>\n",
       " <li>Magnetic Silver</li>\n",
       " <li>Mariana Blue</li>\n",
       " <li>Marron Bl</li>\n",
       " </ul>\n",
       " </div>, <div class=\"pure-u-1 pure-u-md-1-2\">\n",
       " <br/>\n",
       " <ul>\n",
       " <li>Argento Grey, premium leather</li>\n",
       " <li>Aurora Blue, premium leather</li>\n",
       " <li>Bitter Chocolate, premium leather</li>\n",
       " <li>Black Damson, premium leather</li>\n",
       " <li>Bronze Metallic, premium leather</li>\n",
       " <li>California Poppy, premium leather</li>\n",
       " <li>Chancellor Red, premium leather</li>\n",
       " <li>Chesnut Tan, premium leather</li>\n",
       " <li>Crea</li>\n",
       " </ul>\n",
       " </div>]"
      ]
     },
     "execution_count": 47,
     "metadata": {},
     "output_type": "execute_result"
    }
   ],
   "source": [
    "BeautifulSoup(NewResponse.text,'html.parser').findAll(True,{'class':'pure-u-1 pure-u-md-1-2'})"
   ]
  },
  {
   "cell_type": "code",
   "execution_count": null,
   "metadata": {},
   "outputs": [],
   "source": [
    "# Audi Q8 error\n",
    "url = 'https://www.carspecs.us/cars/2019/audi/q8'\n",
    "NewResponse = requests.get(url)\n",
    "BeautifulSoup(NewResponse.text,'html.parser').findAll(True,{'class':'pure-u-1 pure-u-md-1-2'})#[j].get_text().strip().split('\\r\\n')[1]"
   ]
  }
 ],
 "metadata": {
  "kernelspec": {
   "display_name": "Python 3",
   "language": "python",
   "name": "python3"
  },
  "language_info": {
   "codemirror_mode": {
    "name": "ipython",
    "version": 3
   },
   "file_extension": ".py",
   "mimetype": "text/x-python",
   "name": "python",
   "nbconvert_exporter": "python",
   "pygments_lexer": "ipython3",
   "version": "3.7.2"
  }
 },
 "nbformat": 4,
 "nbformat_minor": 4
}
