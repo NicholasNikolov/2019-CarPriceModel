{
 "cells": [
  {
   "cell_type": "markdown",
   "metadata": {},
   "source": [
    "## Task List\n",
    "* Trim labels like mpg and hp\n",
    "* Remove missing prices or fill in manually (this cannot be missing and should not be imputed)\n",
    "* Impute where possible in the predictor/exogenous variables (Note: I would like to manually fill as much as possible. Namely, mpg and hp are important variables to my car purchasing)\n",
    "* Ensure accurate data types\n",
    "* Perform entry counts to ensure there aren't instances of just 1 entry qualitative entry or that the entire column is the same entry"
   ]
  }
 ],
 "metadata": {
  "kernelspec": {
   "display_name": "Python 3",
   "language": "python",
   "name": "python3"
  },
  "language_info": {
   "codemirror_mode": {
    "name": "ipython",
    "version": 3
   },
   "file_extension": ".py",
   "mimetype": "text/x-python",
   "name": "python",
   "nbconvert_exporter": "python",
   "pygments_lexer": "ipython3",
   "version": "3.7.2"
  }
 },
 "nbformat": 4,
 "nbformat_minor": 4
}
