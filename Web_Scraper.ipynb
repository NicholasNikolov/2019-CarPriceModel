{
 "cells": [
  {
   "cell_type": "code",
   "execution_count": 2,
   "metadata": {},
   "outputs": [],
   "source": [
    "from urllib.request import Request, urlopen\n",
    "import requests\n",
    "from urllib.parse import urlparse\n",
    "from bs4 import BeautifulSoup\n",
    "import time\n",
    "import pandas as pd\n",
    "import numpy as np"
   ]
  },
  {
   "cell_type": "code",
   "execution_count": 2,
   "metadata": {},
   "outputs": [],
   "source": [
    "# Create reference to main webpage that will be used to seek out various car makes and models\n",
    "url = 'https://www.carspecs.us/'\n",
    "response = requests.get(url)"
   ]
  },
  {
   "cell_type": "code",
   "execution_count": 3,
   "metadata": {},
   "outputs": [],
   "source": [
    "# The beautiful soup result of parsing the main page. Will search for links to pursue\n",
    "bsMain = BeautifulSoup(response.text,\"html.parser\")"
   ]
  },
  {
   "cell_type": "code",
   "execution_count": 4,
   "metadata": {},
   "outputs": [
    {
     "data": {
      "text/plain": [
       "'/cars/acura'"
      ]
     },
     "execution_count": 4,
     "metadata": {},
     "output_type": "execute_result"
    }
   ],
   "source": [
    "# Indices 24 to 91 are the car links\n",
    "MainLinkList = bsMain.findAll('a')\n",
    "MainLinkList[24]['href']"
   ]
  },
  {
   "cell_type": "code",
   "execution_count": 5,
   "metadata": {},
   "outputs": [],
   "source": [
    "# This gets the specific make domain for appending to the main link\n",
    "make = MainLinkList[24]['href']\n",
    "\n",
    "# Appending the link for car make to the homepage link. This leads to the list of years\n",
    "NewUrl = url + make[1:]\n",
    "\n",
    "# Updated URL Request\n",
    "NewResponse = requests.get(NewUrl)\n",
    "\n",
    "# Updated Beautiful Soup of years\n",
    "bsYears = BeautifulSoup(NewResponse.text,'html.parser')\n",
    "\n"
   ]
  },
  {
   "cell_type": "code",
   "execution_count": 6,
   "metadata": {},
   "outputs": [],
   "source": [
    "# Find all links on the page of car years\n",
    "bsYears.findAll('a')\n",
    "\n",
    "# Find the index of the respective year. Initially I'll only consider 2018 and 2019 cars\n",
    "yr2019 = [i for i, j in enumerate(bsYears.findAll('a')) if '2019' in j][0]\n",
    "# yr2018 = [i for i, j in enumerate(bsYears.findAll('a')) if '2018' in j][0]"
   ]
  },
  {
   "cell_type": "code",
   "execution_count": 7,
   "metadata": {},
   "outputs": [
    {
     "data": {
      "text/plain": [
       "25"
      ]
     },
     "execution_count": 7,
     "metadata": {},
     "output_type": "execute_result"
    }
   ],
   "source": [
    "yr2019"
   ]
  },
  {
   "cell_type": "code",
   "execution_count": 8,
   "metadata": {},
   "outputs": [],
   "source": [
    "# Get the year part of link to append to make like\n",
    "year = bsYears.findAll('a')[yr2019]['href']\n",
    "\n",
    "# New url with years\n",
    "NewUrl = url + year[1:]"
   ]
  },
  {
   "cell_type": "code",
   "execution_count": 17,
   "metadata": {},
   "outputs": [],
   "source": [
    "# Selecting the model\n",
    "NewResponse = requests.get(NewUrl)\n",
    "\n",
    "bsModels = BeautifulSoup(NewResponse.text,'html.parser')\n",
    "\n",
    "MainLinkList = bsModels.findAll('a')\n",
    "\n",
    "ModelLowIndex = [i for i, j in enumerate(bsModels.findAll('a')) if 'Cars' in j][0]\n",
    "ModelHighIndex = [i for i, j in enumerate(bsModels.findAll('a')) if 'Privacy Policy' in j][0]"
   ]
  },
  {
   "cell_type": "code",
   "execution_count": 12,
   "metadata": {},
   "outputs": [
    {
     "data": {
      "text/plain": [
       "'https://www.carspecs.us/cars/2019/acura/mdx'"
      ]
     },
     "execution_count": 12,
     "metadata": {},
     "output_type": "execute_result"
    }
   ],
   "source": [
    "model = MainLinkList[ModelLowIndex + 2]['href']\n",
    "\n",
    "NewUrl = url + model[1:]\n",
    "\n",
    "NewUrl"
   ]
  },
  {
   "cell_type": "code",
   "execution_count": 10,
   "metadata": {},
   "outputs": [
    {
     "data": {
      "text/plain": [
       "['TPMS', '\\t\\t\\t\\t\\tTire Pressure Monitor']"
      ]
     },
     "execution_count": 10,
     "metadata": {},
     "output_type": "execute_result"
    }
   ],
   "source": [
    "# At this stage we are at the specs page and need to start reading data into a dataframe.\n",
    "\n",
    "NewResponse = requests.get(NewUrl)\n",
    "\n",
    "# Testing the indices using this manual split\n",
    "BeautifulSoup(NewResponse.text,'html.parser').findAll(True,{'class':'pure-u-1 pure-u-md-1-2'})[44].get_text().strip().split('\\r\\n')\n",
    "\n",
    "# Engine Type (index 12) does not work\n",
    "# Front Brakes (index 26) does not work\n",
    "# Read Brakes (index 27) does not work\n",
    "# Brake Type (index 31) does not work\n",
    "# TPMS (index 44) does not work\n",
    "# Ends at 71.\n",
    "\n",
    "# NOTE: I can make this work if I utilize a conditional to split the \\t\\t\\t\\ from the above values."
   ]
  },
  {
   "cell_type": "code",
   "execution_count": 16,
   "metadata": {},
   "outputs": [],
   "source": [
    "variables = []\n",
    "for i in range(72):\n",
    "    variables.append(BeautifulSoup(NewResponse.text,'html.parser').findAll(True,{'class':'pure-u-1 pure-u-md-1-2'})[i].get_text().strip().split('\\r\\n')[0])"
   ]
  },
  {
   "cell_type": "code",
   "execution_count": 15,
   "metadata": {},
   "outputs": [
    {
     "data": {
      "text/html": [
       "<div>\n",
       "<style scoped>\n",
       "    .dataframe tbody tr th:only-of-type {\n",
       "        vertical-align: middle;\n",
       "    }\n",
       "\n",
       "    .dataframe tbody tr th {\n",
       "        vertical-align: top;\n",
       "    }\n",
       "\n",
       "    .dataframe thead th {\n",
       "        text-align: right;\n",
       "    }\n",
       "</style>\n",
       "<table border=\"1\" class=\"dataframe\">\n",
       "  <thead>\n",
       "    <tr style=\"text-align: right;\">\n",
       "      <th></th>\n",
       "      <th>4</th>\n",
       "      <th>7</th>\n",
       "      <th>Transmission: 9-Speed Automatic -inc: Sequential SportShift w/paddle shifters, 3-mode integrated dynamics system, Electronic Gear Selector and hill start assist</th>\n",
       "      <th>All Wheel Drive</th>\n",
       "      <th>6.43 sec</th>\n",
       "      <th>22 mpg</th>\n",
       "      <th>290 hp</th>\n",
       "      <th>6,200</th>\n",
       "      <th>267 ft-lbs.</th>\n",
       "      <th>4,700</th>\n",
       "      <th>...</th>\n",
       "      <th>61.10 in.</th>\n",
       "      <th>57.50 in.</th>\n",
       "      <th>38.30 in.</th>\n",
       "      <th>38.50 in.</th>\n",
       "      <th>59.10 in.</th>\n",
       "      <th>57.80 in.</th>\n",
       "      <th>35.60 in.</th>\n",
       "      <th>28.10 in.</th>\n",
       "      <th>54.70 in.</th>\n",
       "      <th>40.60 in.</th>\n",
       "    </tr>\n",
       "  </thead>\n",
       "  <tbody>\n",
       "  </tbody>\n",
       "</table>\n",
       "<p>0 rows × 72 columns</p>\n",
       "</div>"
      ],
      "text/plain": [
       "Empty DataFrame\n",
       "Columns: [4, 7, Transmission: 9-Speed Automatic -inc: Sequential SportShift w/paddle shifters, 3-mode integrated dynamics system, Electronic Gear Selector and hill start assist, All Wheel Drive, 6.43 sec, 22 mpg, 290 hp, 6,200, 267 ft-lbs., 4,700, 6, 3.50 L, \t\t\t\t\tGas, Transmission: 9-Speed Automatic -inc: Sequential SportShift w/paddle shifters, 3-mode integrated dynamics system, Electronic Gear Selector and hill start assist, 4.71, 2.84, 1.91, 1.38, 1.00, 0.81, 0.70, 0.58, 4.33, 3.83, Strut, Multi-Link, \t\t\t\t\tFront Disc Brakes, \t\t\t\t\tRear Disc Brakes, 12.60 in., 13.00 in., NA in., \t\t\t\t\tABS Brakes, 4-Wheel, P245/60HR18, P245/60HR18, 18.00 in., 18.00 in., 8.00 in., 8.00 in., P245/60HR18, Compact, Aluminum, Aluminum, NA, \t\t\t\t\tTire Pressure Monitor, 4,239 lbs., 19.50 gal., 350 lbs, 3,500 lbs, 3,500 lbs, 350 lbs, 3,500 lbs, 196.20 in., 77.70, 67.40 in., 111.00 in., 66.30 in., 66.30 in., 5.60 in., 38.70 ft., 38.10 in., 41.40 in., 61.10 in., 57.50 in., 38.30 in., 38.50 in., 59.10 in., 57.80 in., 35.60 in., 28.10 in., 54.70 in., 40.60 in.]\n",
       "Index: []\n",
       "\n",
       "[0 rows x 72 columns]"
      ]
     },
     "execution_count": 15,
     "metadata": {},
     "output_type": "execute_result"
    }
   ],
   "source": [
    "# The pd DataFrame\n",
    "pd.DataFrame(columns=variables)"
   ]
  },
  {
   "cell_type": "code",
   "execution_count": 34,
   "metadata": {},
   "outputs": [
    {
     "name": "stdout",
     "output_type": "stream",
     "text": [
      "Acura\n",
      "Volvo\n"
     ]
    }
   ],
   "source": [
    "link = 'https://www.carspecs.us/'\n",
    "response = requests.get(link)\n",
    "makes = []\n",
    "print(BeautifulSoup(response.text).findAll('a')[24].get_text())\n",
    "print(BeautifulSoup(response.text).findAll('a')[91].get_text())\n",
    "for i in range(24,92):\n",
    "    makes.append(BeautifulSoup(response.text).findAll('a')[i].get_text())"
   ]
  },
  {
   "cell_type": "code",
   "execution_count": 35,
   "metadata": {},
   "outputs": [
    {
     "data": {
      "text/plain": [
       "['Acura',\n",
       " 'Alfa Romeo',\n",
       " 'AM General',\n",
       " 'Aston Martin',\n",
       " 'Audi',\n",
       " 'Bentley',\n",
       " 'BMW',\n",
       " 'Bugatti',\n",
       " 'Buick',\n",
       " 'Cadillac',\n",
       " 'Chevrolet',\n",
       " 'Chrysler',\n",
       " 'Citroen',\n",
       " 'Daewoo',\n",
       " 'Daihatsu',\n",
       " 'Dodge',\n",
       " 'Eagle',\n",
       " 'Ferrari',\n",
       " 'FIAT',\n",
       " 'Fisker',\n",
       " 'Ford',\n",
       " 'Freightliner',\n",
       " 'Genesis',\n",
       " 'Geo',\n",
       " 'GMC',\n",
       " 'Honda',\n",
       " 'HUMMER',\n",
       " 'Hyundai',\n",
       " 'Infiniti',\n",
       " 'International',\n",
       " 'Isuzu',\n",
       " 'Jaguar',\n",
       " 'Jeep',\n",
       " 'Kia',\n",
       " 'Lamborghini',\n",
       " 'Land Rover',\n",
       " 'Lexus',\n",
       " 'Lincoln',\n",
       " 'Lotus',\n",
       " 'Maserati',\n",
       " 'Maybach',\n",
       " 'Mazda',\n",
       " 'McLaren',\n",
       " 'Mercedes-Benz',\n",
       " 'Mercury',\n",
       " 'MINI',\n",
       " 'Mitsubishi',\n",
       " 'Morgan',\n",
       " 'Nissan',\n",
       " 'Oldsmobile',\n",
       " 'Panoz',\n",
       " 'Plymouth',\n",
       " 'Pontiac',\n",
       " 'Porsche',\n",
       " 'Ram',\n",
       " 'Rolls-Royce',\n",
       " 'Saab',\n",
       " 'Saleen',\n",
       " 'Saturn',\n",
       " 'Scion',\n",
       " 'smart',\n",
       " 'Spyker',\n",
       " 'Subaru',\n",
       " 'Suzuki',\n",
       " 'Tesla',\n",
       " 'Toyota',\n",
       " 'Volkswagen',\n",
       " 'Volvo']"
      ]
     },
     "execution_count": 35,
     "metadata": {},
     "output_type": "execute_result"
    }
   ],
   "source": [
    "makes"
   ]
  }
 ],
 "metadata": {
  "kernelspec": {
   "display_name": "Python 3",
   "language": "python",
   "name": "python3"
  },
  "language_info": {
   "codemirror_mode": {
    "name": "ipython",
    "version": 3
   },
   "file_extension": ".py",
   "mimetype": "text/x-python",
   "name": "python",
   "nbconvert_exporter": "python",
   "pygments_lexer": "ipython3",
   "version": "3.7.0"
  }
 },
 "nbformat": 4,
 "nbformat_minor": 2
}
