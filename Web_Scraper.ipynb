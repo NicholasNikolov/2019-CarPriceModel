{
 "cells": [
  {
   "cell_type": "code",
   "execution_count": 29,
   "metadata": {},
   "outputs": [],
   "source": [
    "from urllib.request import Request, urlopen\n",
    "import requests\n",
    "from urllib.parse import urlparse\n",
    "from bs4 import BeautifulSoup\n",
    "import time"
   ]
  },
  {
   "cell_type": "code",
   "execution_count": 30,
   "metadata": {},
   "outputs": [],
   "source": [
    "# Create reference to main webpage that will be used to seek out various car makes and models\n",
    "url = 'https://www.carspecs.us/'\n",
    "response = requests.get(url)"
   ]
  },
  {
   "cell_type": "code",
   "execution_count": 31,
   "metadata": {},
   "outputs": [],
   "source": [
    "# The beautiful soup result of parsing the main page. Will search for links to pursue\n",
    "bsMain = BeautifulSoup(response.text,\"html.parser\")"
   ]
  },
  {
   "cell_type": "code",
   "execution_count": 33,
   "metadata": {},
   "outputs": [
    {
     "data": {
      "text/plain": [
       "'/cars/acura'"
      ]
     },
     "execution_count": 33,
     "metadata": {},
     "output_type": "execute_result"
    }
   ],
   "source": [
    "# Indices 24 to 91 are the car links\n",
    "MainLinkList = bsMain.findAll('a')\n",
    "MainLinkList[24]['href']"
   ]
  },
  {
   "cell_type": "code",
   "execution_count": 34,
   "metadata": {},
   "outputs": [],
   "source": [
    "# This gets the specific make domain for appending to the main link\n",
    "make = MainLinkList[24]['href']\n",
    "\n",
    "# Appending the link for car make to the homepage link. This leads to the list of years\n",
    "NewUrl = url + make[1:]\n",
    "\n",
    "# Updated URL Request\n",
    "NewResponse = requests.get(NewUrl)\n",
    "\n",
    "# Updated Beautiful Soup of years\n",
    "bsYears = BeautifulSoup(NewResponse.text,'html.parser')\n",
    "\n"
   ]
  },
  {
   "cell_type": "code",
   "execution_count": 35,
   "metadata": {},
   "outputs": [],
   "source": [
    "# Find all links on the page of car years\n",
    "bsYears.findAll('a')\n",
    "\n",
    "# Find the index of the respective year. Initially I'll only consider 2018 and 2019 cars\n",
    "yr2019 = [i for i, j in enumerate(bsYears.findAll('a')) if '2019' in j][0]\n",
    "# yr2018 = [i for i, j in enumerate(bsYears.findAll('a')) if '2018' in j][0]"
   ]
  },
  {
   "cell_type": "code",
   "execution_count": 36,
   "metadata": {},
   "outputs": [],
   "source": [
    "# Get the year part of link to append to make like\n",
    "year = bsYears.findAll('a')[yr2019]['href']\n",
    "\n",
    "# New url with years\n",
    "NewUrl = url + year[1:]"
   ]
  },
  {
   "cell_type": "code",
   "execution_count": 37,
   "metadata": {},
   "outputs": [],
   "source": [
    "# Selecting the model\n",
    "NewResponse = requests.get(NewUrl)\n",
    "\n",
    "bsModels = BeautifulSoup(NewResponse.text,'html.parser')\n",
    "\n",
    "MainLinkList = bsModels.findAll('a')\n",
    "\n",
    "ModelLowIndex = [i for i, j in enumerate(bsYears.findAll('a')) if 'Cars' in j][0]\n",
    "ModelHighIndex = [i for i, j in enumerate(bsYears.findAll('a')) if 'Privacy Policy' in j][0]"
   ]
  },
  {
   "cell_type": "code",
   "execution_count": 43,
   "metadata": {},
   "outputs": [
    {
     "data": {
      "text/plain": [
       "'https://www.carspecs.us/cars/2019/acura/mdx'"
      ]
     },
     "execution_count": 43,
     "metadata": {},
     "output_type": "execute_result"
    }
   ],
   "source": [
    "model = MainLinkList[ModelLowIndex + 2]['href']\n",
    "\n",
    "NewUrl = url + model[1:]\n",
    "\n",
    "NewUrl"
   ]
  },
  {
   "cell_type": "code",
   "execution_count": 150,
   "metadata": {},
   "outputs": [
    {
     "data": {
      "text/plain": [
       "['ABS And Driveline Traction Control\\nAirbag Occupancy Sensor\\nBack-Up Camera\\nCurtain 1st, 2nd And 3rd Row Airbags\\nDriver Knee Airbag\\nDual Stage Driver And Passenger Front Airbags\\nDual Stage Driver And Passenger Seat-Mounted Side Airbags\\nForward Collision\\nLane Departure Warning\\nLane Keeping Assist\\nOutboard Front Lap And Shoulder Safety Belts -inc: Rear Center 3...\\nRear Child Safety Locks\\nSide Impact Beams\\nTire Specific Low Tire Pressure Warning\\nVehicle Stability Assist Electronic Stability Control (ESC)']"
      ]
     },
     "execution_count": 150,
     "metadata": {},
     "output_type": "execute_result"
    }
   ],
   "source": [
    "# At this stage we are at the specs page and need to start reading data into a dataframe.\n",
    "\n",
    "#NewResponse = requests.get(NewUrl)\n",
    "\n",
    "# Testing the indices using this manual split\n",
    "BeautifulSoup(NewResponse.text,'html.parser').findAll(True,{'class':'pure-u-1 pure-u-md-1-2'})[72].get_text().strip().split('\\r\\n')\n",
    "\n",
    "# Engine Type (index 12) does not work\n",
    "# Front Brakes (index 26) does not work\n",
    "# Read Brakes (index 27) does not work\n",
    "# Brake Type (index 31) does not work\n",
    "# TPMS (index 44) does not work\n",
    "# Ends at 71.\n",
    "\n",
    "# NOTE: I can make this work if I utilize a conditional to split the \\t\\t\\t\\ from the above values."
   ]
  }
 ],
 "metadata": {
  "kernelspec": {
   "display_name": "Python 3",
   "language": "python",
   "name": "python3"
  },
  "language_info": {
   "codemirror_mode": {
    "name": "ipython",
    "version": 3
   },
   "file_extension": ".py",
   "mimetype": "text/x-python",
   "name": "python",
   "nbconvert_exporter": "python",
   "pygments_lexer": "ipython3",
   "version": "3.7.0"
  }
 },
 "nbformat": 4,
 "nbformat_minor": 2
}
